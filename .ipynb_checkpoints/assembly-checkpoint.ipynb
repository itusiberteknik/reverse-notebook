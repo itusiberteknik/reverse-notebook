{
 "cells": [
  {
   "cell_type": "markdown",
   "metadata": {},
   "source": [
    "# To install and run Jupyter Notebook\n",
    "```\n",
    "$ apt install virtualenv\n",
    "$ virtualenv -p python2 env\n",
    "$ source env/bin/activate\n",
    "$ pip install pwntools jupyter r2pipe\n",
    "$ export PWNLIB_NOTERM=true\n",
    "$ jupyter notebook\n",
    "```"
   ]
  },
  {
   "cell_type": "markdown",
   "metadata": {},
   "source": [
    "# Creating an executable from assembly code"
   ]
  },
  {
   "cell_type": "code",
   "execution_count": 4,
   "metadata": {},
   "outputs": [
    {
     "name": "stdout",
     "output_type": "stream",
     "text": [
      "The pieces: ['0x685b585f696b6a5f', '0x615f62645b6c6b5d', '0x626564615b6a5b6c', '0x615f685b625f6065', '0x6b586b626b'], len: 5\n"
     ]
    }
   ],
   "source": [
    "from pwn import *\n",
    "context.arch = \"amd64\"\n",
    "context.bits = 64\n",
    "\n",
    "s = \"\".join([chr(ord(i)-10) for i in \"itusiberguvenlikveteknolojilerikulubu\"])\n",
    "ss = [u64(s[i:i+8].ljust(8, '\\x00')) for i in range(0, len(s), 8)]\n",
    "print(\"The pieces: {}, len: {}\".format([hex(i) for i in ss], len(ss)))"
   ]
  },
  {
   "cell_type": "code",
   "execution_count": 5,
   "metadata": {},
   "outputs": [
    {
     "name": "stdout",
     "output_type": "stream",
     "text": [
      "   0:   48 b8 6b 62 6b 58 6b    movabs rax,0x6b586b626b\n",
      "   7:   00 00 00 \n",
      "   a:   50                      push   rax\n",
      "   b:   48 b8 65 60 5f 62 5b    movabs rax,0x615f685b625f6065\n",
      "  12:   68 5f 61 \n",
      "  15:   50                      push   rax\n",
      "  16:   48 b8 6c 5b 6a 5b 61    movabs rax,0x626564615b6a5b6c\n",
      "  1d:   64 65 62 \n",
      "  20:   50                      push   rax\n",
      "  21:   48 b8 5d 6b 6c 5b 64    movabs rax,0x615f62645b6c6b5d\n",
      "  28:   62 5f 61 \n",
      "  2b:   50                      push   rax\n",
      "  2c:   48 b8 5f 6a 6b 69 5f    movabs rax,0x685b585f696b6a5f\n",
      "  33:   58 5b 68 \n",
      "  36:   50                      push   rax\n",
      "  37:   48 89 e2                mov    rdx,rsp\n",
      "  3a:   48 c7 c1 00 00 00 00    mov    rcx,0x0\n",
      "  41:   48 83 f9 25             cmp    rcx,0x25\n",
      "  45:   74 0e                   je     0x55\n",
      "  47:   8a 02                   mov    al,BYTE PTR [rdx]\n",
      "  49:   04 0a                   add    al,0xa\n",
      "  4b:   88 02                   mov    BYTE PTR [rdx],al\n",
      "  4d:   48 ff c2                inc    rdx\n",
      "  50:   48 ff c1                inc    rcx\n",
      "  53:   eb ec                   jmp    0x41\n",
      "  55:   48 c7 c0 3c 00 00 00    mov    rax,0x3c\n",
      "  5c:   0f 05                   syscall \n",
      "  5e:   c3                      ret\n"
     ]
    }
   ],
   "source": [
    "from pwn import *\n",
    "context.arch = \"amd64\"\n",
    "context.bits = 64\n",
    "\n",
    "asmcode = \"\"\"\n",
    "MAIN:\n",
    "    mov rax, {}\n",
    "    push rax\n",
    "    mov rax, {}\n",
    "    push rax\n",
    "    mov rax, {}\n",
    "    push rax\n",
    "    mov rax, {}\n",
    "    push rax\n",
    "    mov rax, {}\n",
    "    push rax\n",
    "    mov rdx, rsp\n",
    "    mov rcx, 0\n",
    "    \n",
    "CHECK:\n",
    "    cmp rcx, {}\n",
    "    je END\n",
    "    \n",
    "    mov al, BYTE PTR[rdx]\n",
    "    add al, 10\n",
    "    mov BYTE PTR[rdx], al\n",
    "    inc rdx\n",
    "    inc rcx\n",
    "    jmp CHECK\n",
    "\n",
    "END:\n",
    "    mov rax, 60 # exit syscall\n",
    "    syscall\n",
    "    ret\n",
    "\"\"\".format(ss[4], ss[3], ss[2], ss[1], ss[0], len(s))\n",
    "\n",
    "print(disasm(asm(asmcode)))\n",
    "with open(\"runme\", \"wb\") as f:\n",
    "    f.write(make_elf(asm(asmcode)))"
   ]
  },
  {
   "cell_type": "markdown",
   "metadata": {},
   "source": [
    "# Analyzing an executable with Radare2\n",
    "_Requires Radare2 to be installed_"
   ]
  },
  {
   "cell_type": "code",
   "execution_count": 6,
   "metadata": {},
   "outputs": [
    {
     "name": "stdout",
     "output_type": "stream",
     "text": [
      "Entrypoint: 0x401000\n",
      "            ;-- section..shellcode:\n",
      "            ;-- segment.LOAD0:\n",
      "            ;-- segment.ehdr:\n",
      "            ;-- rip:\n",
      "/ (fcn) entry0 95\n",
      "|   entry0 ();\n",
      "|           0x00401000      48b86b626b58.  movabs rax, 0x6b586b626b\n",
      "|           0x0040100a      50             push rax\n",
      "|           0x0040100b      48b865605f62.  movabs rax, 0x615f685b625f6065\n",
      "|           0x00401015      50             push rax\n",
      "|           0x00401016      48b86c5b6a5b.  movabs rax, 0x626564615b6a5b6c\n",
      "|           0x00401020      50             push rax\n",
      "|           0x00401021      48b85d6b6c5b.  movabs rax, 0x615f62645b6c6b5d\n",
      "|           0x0040102b      50             push rax\n",
      "|           0x0040102c      48b85f6a6b69.  movabs rax, 0x685b585f696b6a5f\n",
      "|           0x00401036      50             push rax\n",
      "|           0x00401037      4889e2         mov rdx, rsp\n",
      "|           0x0040103a      48c7c1000000.  mov rcx, 0\n",
      "|       .-> 0x00401041      4883f925       cmp rcx, 0x25\n",
      "|      ,==< 0x00401045      740e           je 0x401055\n",
      "|      |:   0x00401047      8a02           mov al, byte [rdx]\n",
      "|      |:   0x00401049      040a           add al, 0xa\n",
      "|      |:   0x0040104b      8802           mov byte [rdx], al\n",
      "|      |:   0x0040104d      48ffc2         inc rdx\n",
      "|      |:   0x00401050      48ffc1         inc rcx\n",
      "|      |`=< 0x00401053      ebec           jmp 0x401041\n",
      "|      `--> 0x00401055      48c7c03c0000.  mov rax, 0x3c\n",
      "|           0x0040105c      0f05           syscall\n",
      "\\           0x0040105e      c3             ret\n",
      "\n"
     ]
    }
   ],
   "source": [
    "import r2pipe\n",
    "import json\n",
    "\n",
    "r2 = r2pipe.open(\"runme\")\n",
    "r2.cmd(\"e asm.comments=false\")\n",
    "r2.cmd(\"e scr.utf8=false\")\n",
    "# aa: basic analysis\n",
    "r2.cmd(\"aa\")\n",
    "\n",
    "# iej: entrypoint(json output)\n",
    "entry = json.loads(r2.cmd(\"iej\"))[0][\"vaddr\"]\n",
    "print(\"Entrypoint: 0x{:0x}\".format(entry))\n",
    "\n",
    "# aflq: function list(quiet output)\n",
    "for f in r2.cmd(\"aflq\").split():\n",
    "    # pdf: disassemble function\n",
    "    print(r2.cmd(\"pdf @{}\".format(f)))\n",
    "\n",
    "r2.quit()"
   ]
  },
  {
   "cell_type": "markdown",
   "metadata": {},
   "source": [
    "# Concepts we've gone through\n",
    "\n",
    "* CPU - Memory\n",
    "* Assembly\n",
    "* Machine Code\n",
    "* Register\n",
    "* Stack frame\n",
    "* Calling convention\n",
    "* Disassembler\n",
    "* Debugger"
   ]
  },
  {
   "cell_type": "markdown",
   "metadata": {},
   "source": [
    "# Reference Links\n",
    "\n",
    "### x86 assembly\n",
    "- http://www.cs.virginia.edu/~evans/cs216/guides/x86.html\n",
    "- https://www.felixcloutier.com/x86/\n",
    "\n",
    "### Stack Frame\n",
    "- https://en.wikipedia.org/wiki/Call_stack\n",
    "\n",
    "### Calling Convention\n",
    "- https://en.wikipedia.org/wiki/Calling_convention\n",
    "- https://en.wikipedia.org/wiki/X86_calling_conventions\n",
    "\n",
    "### Disassembler\n",
    "- https://www.hex-rays.com/products/ida/support/download_freeware.shtml\n",
    "- https://ghidra-sre.org/\n",
    "- https://rada.re/r/\n",
    "\n",
    "### Debugger\n",
    "- https://github.com/longld/peda"
   ]
  },
  {
   "cell_type": "markdown",
   "metadata": {},
   "source": [
    "# GDB(GNU Debugger) cheatsheet\n",
    "\n",
    "```$ gdb runme```\n",
    "\n",
    "### Breakpoints\n",
    "\n",
    "Using an address (eg: 0x40080):\n",
    "\n",
    "```$ break *0x40080```\n",
    "\n",
    "Using a function name:\n",
    "\n",
    "```$ break main```\n",
    "\n",
    "### Running and stepping through instructions\n",
    "\n",
    "Run the executable:\n",
    "\n",
    "```$ run```\n",
    "\n",
    "Step through instructions (without going into the function):\n",
    "\n",
    "```$ nexti```\n",
    "\n",
    "Step through instructions (with going into the function):\n",
    "\n",
    "```$ stepi```\n",
    "\n",
    "Note: Hitting ```enter``` will execute the last command.\n",
    "\n",
    "### Analyzing a function\n",
    "\n",
    "Using peda:\n",
    "\n",
    "```$ pdisass main```\n",
    "\n",
    "```$ pdisass 0x40080```\n",
    "\n",
    "```$ pdisass 0x40080 0x40100``` (Disassemble everything between two addresses)\n",
    "\n",
    "```$ pdisass 0x40080 /20``` (Disassemble 20 instructions starting from 0x40080)\n",
    "\n",
    "Without peda:\n",
    "\n",
    "```$ x/<number>i 0x40080``` (Disassemble <number> instructions starting from 0x40080)"
   ]
  }
 ],
 "metadata": {
  "kernelspec": {
   "display_name": "Python 2",
   "language": "python",
   "name": "python2"
  },
  "language_info": {
   "codemirror_mode": {
    "name": "ipython",
    "version": 2
   },
   "file_extension": ".py",
   "mimetype": "text/x-python",
   "name": "python",
   "nbconvert_exporter": "python",
   "pygments_lexer": "ipython2",
   "version": "2.7.15"
  }
 },
 "nbformat": 4,
 "nbformat_minor": 2
}
